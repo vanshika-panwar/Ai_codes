{
 "cells": [
  {
   "cell_type": "markdown",
   "metadata": {},
   "source": [
    "# Binary Bandit with stationary rewards "
   ]
  },
  {
   "cell_type": "code",
   "execution_count": 2,
   "metadata": {},
   "outputs": [],
   "source": [
    "import numpy as np\n",
    "import matplotlib.pyplot as plt\n",
    "import random"
   ]
  },
  {
   "cell_type": "code",
   "execution_count": 4,
   "metadata": {},
   "outputs": [],
   "source": [
    "import random\n",
    "# --- Bandit ---\n",
    "class BinaryBandit(object):\n",
    "  def __init__(self):\n",
    "    # N = number of arms\n",
    "    self.N = 2\n",
    "  def actions(self):\n",
    "    result = []\n",
    "    for i in range(0,self.N):\n",
    "      result.append(i)\n",
    "    return result\n",
    "  def reward1(self, action):\n",
    "    p = [0.1, 0.2]\n",
    "    rand = random.random()\n",
    "    if rand < p[action]:\n",
    "      return 1\n",
    "    else:\n",
    "      return 0\n",
    "  def reward2(self, action):\n",
    "    p = [0.9, 0.8]\n",
    "    rand = random.random()\n",
    "    if rand < p[action]:\n",
    "      return 1\n",
    "    else:\n",
    "      return 0\n"
   ]
  },
  {
   "cell_type": "code",
   "execution_count": 5,
   "metadata": {},
   "outputs": [],
   "source": [
    "myBandit = BinaryBandit()"
   ]
  },
  {
   "cell_type": "code",
   "execution_count": 6,
   "metadata": {},
   "outputs": [],
   "source": [
    "def eGreedy(myBandit, epsilon, max_iteration):\n",
    "  # Initialization \n",
    "  Q = [0]*myBandit.N \n",
    "  count = [0]*myBandit.N\n",
    "  epsilon = epsilon\n",
    "  r = 0\n",
    "  R = [] #array of rewards\n",
    "  R_avg = [0]*1  #average of rewards recieved till iter i\n",
    "  max_iter = max_iteration\n",
    "  # Incremental Implementation\n",
    "  for iter in range(1,max_iter):\n",
    "    if random.random() > epsilon:\n",
    "      action = Q.index(max(Q)) # Exploit/ Greed\n",
    "    else:\n",
    "      action = random.choice(myBandit.actions()) # Explore\n",
    "    r = myBandit.reward1(action)\n",
    "    R.append(r)\n",
    "    count[action] = count[action]+1\n",
    "    Q[action] = Q[action]+(r - Q[action])/count[action]\n",
    "    R_avg.append(R_avg[iter-1] + (r-R_avg[iter-1])/iter)\n",
    "\n",
    "  return Q, R_avg, R"
   ]
  },
  {
   "cell_type": "code",
   "execution_count": 7,
   "metadata": {},
   "outputs": [
    {
     "name": "stdout",
     "output_type": "stream",
     "text": [
      "[0.10124164278892064, 0.19906166219839155]\n"
     ]
    }
   ],
   "source": [
    "Q , R_avg , R = eGreedy(myBandit, 0.2,10000)\n",
    "print(Q)\n",
    "#print(R)\n",
    "\n",
    "#print(R_avg)\n"
   ]
  },
  {
   "cell_type": "code",
   "execution_count": 8,
   "metadata": {},
   "outputs": [
    {
     "data": {
      "text/plain": [
       "[<matplotlib.lines.Line2D at 0x7ffa0081c8b0>]"
      ]
     },
     "execution_count": 8,
     "metadata": {},
     "output_type": "execute_result"
    },
    {
     "data": {
      "image/png": "[encoded data removed]",
      "text/plain": [
       "<Figure size 432x288 with 1 Axes>"
      ]
     },
     "metadata": {
      "needs_background": "light"
     },
     "output_type": "display_data"
    }
   ],
   "source": [
    "plt.plot(R_avg,color= 'red')\n",
    "\n",
    "#it can be seen in the graph that -> for 10000 iterations, \n",
    "\n",
    "#here we are given weights, so the weighted average corresponds to average.\n",
    "#As the average reward is 0.5 for both the actions, this case the choice of action doesn’t matter,\n",
    "#as we expect – on average – to receive the same reward in the long run."
   ]
  },
  {
   "cell_type": "markdown",
   "metadata": {},
   "source": [
    "## **10 - arm bandit**"
   ]
  },
  {
   "cell_type": "markdown",
   "metadata": {},
   "source": [
    "### Develop a 10-armed bandit in which all ten mean-rewards start out equal and then take independent random walks (by adding a normally distributed increment with mean zero and standard deviation 0.01 to all mean-rewards on each time step). \n",
    "\n",
    "### The 10-armed bandit that you developed (bandit_nonstat) is difficult to crack with a standard epsilon-greedy algorithm since the rewards are non-stationary.  We did discuss how to track non-stationary rewards in class.  Write a modified epsilon-greedy agent and show whether it is able to latch onto correct actions or not.  (Try at least 10000 time steps before commenting on results)\n"
   ]
  },
  {
   "cell_type": "code",
   "execution_count": 3,
   "metadata": {},
   "outputs": [],
   "source": [
    "import numpy as np\n",
    "import matplotlib.pyplot as plt"
   ]
  },
  {
   "cell_type": "code",
   "execution_count": 4,
   "metadata": {},
   "outputs": [],
   "source": [
    "# A class for  all the parameters of the algorithm\n",
    "class Params:\n",
    "    def __init__(self):\n",
    "        # number of bandit's arms\n",
    "        self.k = 10\n",
    "\n",
    "        # mean and standard deviation random walk of q_star\n",
    "        self.mu, self.sigma = 0, 0.01\n",
    "\n",
    "        # number of k-armed bandit problems\n",
    "        self.m = None\n",
    "\n",
    "        # step size\n",
    "        self.alpha = 0.1\n",
    "\n",
    "        # step size possible values\n",
    "        self.alphas = [2 ** x for x in range(-5, 2)]\n",
    "\n",
    "        # epsilon-greedy parameter epsilon\n",
    "        self.epsilon = 0.1\n",
    "\n",
    "        # epsilon-greedy parameter epsilon possible values\n",
    "        self.epsilons = [2 ** x for x in range(-7, -1)]\n",
    "\n",
    "        # UCB parameter c possible values\n",
    "        self.cs = [2 ** x for x in range(-4, 3)]\n",
    "\n",
    "        # greedy with optimistic initialization possible initialization values\n",
    "        self.initializations = [2 ** x for x in range(-2, 3)]\n",
    "\n",
    "        # steps of a run\n",
    "        self.steps = None\n",
    "\n",
    "        # number of last steps over the average is computed\n",
    "        self.last_steps_eval = 10000\n",
    "\n",
    "        # names of the algorithms used to solve the k-armed bandit problem\n",
    "        self.bandit_types = None\n"
   ]
  },
  {
   "cell_type": "code",
   "execution_count": 7,
   "metadata": {},
   "outputs": [],
   "source": [
    "# A class for an algorithm for solving the k-armed bandit problem\n",
    "class Bandit:\n",
    "    def __init__(self, bandit_type, k, epsilon, m, alpha, c=None, initialization=None):\n",
    "        \n",
    "       \n",
    "        # Set up the parameters\n",
    "        self.bandit_type = bandit_type #algorithm used to solve the k-armed bandit problem\n",
    "        self.k = k #number of arms of a bandit\n",
    "        self.epsilon = epsilon\n",
    "        self.m = m  #number of bandits\n",
    "        self.alpha = alpha  #step size\n",
    "        self.c = c\n",
    "        self.initialization = initialization\n",
    "\n",
    "        # Table q_star, real reward mean for each action of each bandit\n",
    "        self.q_star = np.zeros((self.m, self.k))\n",
    "\n",
    "        # Table N, used for sample-average method\n",
    "        self.N = np.zeros((self.m, self.k))\n",
    "\n",
    "        # Time variable, used for UCB method\n",
    "        self.time = 0\n",
    "\n",
    "        # Table Q, estimate reward mean for each action of each bandit (zero if there is no initialization)\n",
    "        if initialization is None:\n",
    "            self.Q = np.zeros((self.m, self.k))\n",
    "        else:\n",
    "            self.Q = np.full((self.m, self.k), initialization)\n",
    "\n",
    "    def step(self):\n",
    "        \"\"\"\n",
    "        Choose action for each bandit, observe results and update appropriate tables\n",
    "        :returs the actions taken and reward obtained\n",
    "        \"\"\"\n",
    "        # Sample average action selection algorithm\n",
    "        if self.bandit_type == 'sample_average':\n",
    "            # Choose the action to take for each bandit\n",
    "            A = [np.argmax(row) if np.random.binomial(1, self.epsilon) == 0 else int(np.random.uniform(0, self.k)) for\n",
    "                 row in self.Q[:, ]]\n",
    "\n",
    "            # Observe rewards\n",
    "            R = [np.random.normal(self.q_star[i, value], 1) for i, value in enumerate(A)]\n",
    "\n",
    "            # Update N and Q tables\n",
    "            self.N = np.reshape([self.N[i, :] + Bandit.one_hot(value, self.k) for i, value in enumerate(A)],\n",
    "                                (self.m, self.k))\n",
    "            self.Q = np.reshape([self.Q[i, :] + (1 / self.N[i, value]) * (R[i] - self.Q[i, value]) *\n",
    "                                 Bandit.one_hot(value, self.k) for i, value in enumerate(A)], (self.m, self.k))\n",
    "\n",
    "        # Sample average action selection algorithm with constant step size, with zero or optimistic initialization\n",
    "        elif self.bandit_type == 'constant_step_size' or self.bandit_type == 'optimistic_init':\n",
    "            # Choose the action to take for each bandit\n",
    "            A = [np.argmax(row) if np.random.binomial(1, self.epsilon) == 0 else int(np.random.uniform(0, self.k)) for\n",
    "                 row in self.Q[:, ]]\n",
    "\n",
    "            # Observe rewards\n",
    "            R = [np.random.normal(self.q_star[i, value], 1) for i, value in enumerate(A)]\n",
    "\n",
    "            # Update Q table\n",
    "            self.Q = np.reshape([self.Q[i, :] + self.alpha * (R[i] - self.Q[i, value]) * Bandit.one_hot(value, self.k)\n",
    "                                 for i, value in enumerate(A)], (self.m, self.k))\n",
    "\n",
    "        # Gradient bandit algorithm\n",
    "        elif self.bandit_type == 'gradient':\n",
    "            A_probability = [np.exp(row)/np.sum(np.exp(row)) for row in self.Q[:, ]]\n",
    "\n",
    "            # Choose the action to take for each bandit\n",
    "            A = [np.random.choice(np.arange(self.k), p=p) for p in A_probability]\n",
    "\n",
    "            # Observe rewards\n",
    "            R = [np.random.normal(self.q_star[i, value], 1) for i, value in enumerate(A)]\n",
    "\n",
    "            # Update Q table\n",
    "            self.Q = np.reshape([self.Q[i, :] + self.alpha * R[i] * (Bandit.one_hot(value, self.k) - A_probability[i])\n",
    "                                 for i, value in enumerate(A)], (self.m, self.k))\n",
    "\n",
    "        # Upper-Confidence-Bound action selection algorithm\n",
    "        elif self.bandit_type == 'ucb':\n",
    "            # Choose the action to take for each bandit\n",
    "            A = [np.argmax(row + self.c * np.sqrt(np.log(self.time + 1) / (n + 1))) if\n",
    "                 np.random.binomial(1,self.epsilon) == 0 else int(np.random.uniform(0, self.k)) for row, n in\n",
    "                 zip(self.Q[:, ], self.N[:, ])]\n",
    "\n",
    "            # Observe rewards\n",
    "            R = [np.random.normal(self.q_star[i, value], 1) for i, value in enumerate(A)]\n",
    "\n",
    "            # Update time value\n",
    "            self.time += 1\n",
    "\n",
    "            # Update N and Q tables\n",
    "            self.N = np.reshape([self.N[i, :] + Bandit.one_hot(value, self.k) for i, value in enumerate(A)],\n",
    "                                (self.m, self.k))\n",
    "            self.Q = np.reshape([self.Q[i, :] + (1 / self.N[i, value]) * (R[i] - self.Q[i, value]) *\n",
    "                                 Bandit.one_hot(value, self.k) for i, value in enumerate(A)], (self.m, self.k))\n",
    "\n",
    "        return A, R\n",
    "    \n",
    "    @staticmethod\n",
    "    def one_hot(position, length):\n",
    "        \n",
    "       # position: position of the '1' value\n",
    "        #length: length of the array\n",
    "        \n",
    "        assert length > position, 'position {:d} greater than or equal to length {:d}'.format(position, length)\n",
    "        oh = np.zeros(length)\n",
    "        oh[position] = 1\n",
    "        return oh\n",
    "    \n",
    "    #"
   ]
  },
  {
   "cell_type": "code",
   "execution_count": 8,
   "metadata": {},
   "outputs": [],
   "source": [
    "def show_results(bandit_types, ARs, POAs):\n",
    "    \n",
    "    \n",
    "    # bandit_types: names of the algorithms used to solve the k-armed bandit problem\n",
    "    # ARs: average reward value, for each algorithm and for each step\n",
    "    # POAs: percentage of optimal action chosen value, for each algorithm and for each step\n",
    "    \n",
    "    for bandit_type, AR, POA in zip(bandit_types, ARs, POAs):\n",
    "        plt.figure(0)\n",
    "        plt.plot(AR, label=bandit_type)\n",
    "        plt.legend(loc='best')\n",
    "        plt.xlabel('Steps')\n",
    "        plt.ylabel('Average reward')\n",
    "\n",
    "        plt.figure(1)\n",
    "        plt.plot(POA, label=bandit_type)\n",
    "        plt.legend(loc='best')\n",
    "        plt.xlabel('Steps')\n",
    "        plt.ylabel('% Optimal action')\n",
    "        \n",
    "def solution():\n",
    "    # Set up parameters\n",
    "    params = Params()\n",
    "\n",
    "    params.m = 2000\n",
    "    params.steps = 10000\n",
    "    params.bandit_types = ['sample_average', 'constant_step_size']\n",
    "\n",
    "    ARs = []\n",
    "    POAs = []\n",
    "\n",
    "    for bandit_type in params.bandit_types:\n",
    "        print('Method', bandit_type)\n",
    "\n",
    "        # Average Reward\n",
    "        AR = []\n",
    "\n",
    "        # Percentage of Optimal Action\n",
    "        POA = []\n",
    "\n",
    "        # Set up the algorithm\n",
    "        bandit = Bandit(bandit_type, params.k, params.epsilon, params.m, params.alpha)\n",
    "\n",
    "        for _ in range(params.steps):\n",
    "            # Take a step\n",
    "            A, R = bandit.step()\n",
    "\n",
    "            # Collect rewards and compute the percentage of optimal values\n",
    "            AR.append(np.average(R))\n",
    "            POA.append(np.average([100 if value == np.argmax(bandit.q_star[i, :]) else 0 for i, value in enumerate(A)]))\n",
    "\n",
    "            # Change the true value of every arm of every bandit\n",
    "            bandit.q_star += np.random.normal(params.mu, params.sigma, (params.m, params.k))\n",
    "\n",
    "        ARs.append(AR)\n",
    "        POAs.append(POA)\n",
    "\n",
    "    # Show results\n",
    "    show_results(params.bandit_types, ARs, POAs)"
   ]
  },
  {
   "cell_type": "code",
   "execution_count": null,
   "metadata": {},
   "outputs": [
    {
     "name": "stdout",
     "output_type": "stream",
     "text": [
      "Method sample_average\n"
     ]
    }
   ],
   "source": [
    "solution()\n",
    "plt.show()"
   ]
  }
 ],
 "metadata": {
  "kernelspec": {
   "display_name": "Python 3",
   "language": "python",
   "name": "python3"
  },
  "language_info": {
   "codemirror_mode": {
    "name": "ipython",
    "version": 3
   },
   "file_extension": ".py",
   "mimetype": "text/x-python",
   "name": "python",
   "nbconvert_exporter": "python",
   "pygments_lexer": "ipython3",
   "version": "3.8.5"
  }
 },
 "nbformat": 4,
 "nbformat_minor": 4
}
